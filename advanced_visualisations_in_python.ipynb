{
 "cells": [
  {
   "cell_type": "markdown",
   "metadata": {
    "colab_type": "text",
    "id": "wnppqDFD1nB8"
   },
   "source": [
    "<div align=\"center\" style=\" font-size: 80%; text-align: center; margin: 0 auto\">\n",
    "<img src=\"https://raw.githubusercontent.com/Explore-AI/Pictures/master/Python-Notebook-Banners/Examples.png\"  style=\"display: block; margin-left: auto; margin-right: auto;\";/>\n",
    "</div>\n",
    "\n",
    "# Examples: Advanced visualisations in Python\n",
    "\n",
    "© ExploreAI Academy"
   ]
  },
  {
   "cell_type": "markdown",
   "metadata": {
    "colab_type": "text",
    "id": "V56g2osJrG-L"
   },
   "source": [
    "In this train, we will use Seaborn and Matplotlib to create a variety of visualisations in Python. We will gain insight into slicing Pandas DataFrames to create advanced visualisations.\n",
    "\n",
    "## Learning objectives\n",
    "\n",
    "By the end of this train, you should be able to:\n",
    "* Navigate a Pandas DataFrame.\n",
    "* Slice a Pandas DataFrame.\n",
    "* Produce advanced visualisations in Python.\n"
   ]
  },
  {
   "cell_type": "markdown",
   "metadata": {
    "colab_type": "text",
    "id": "rID9FkXbrG-P"
   },
   "source": [
    "# Exploring the data\n",
    "\n",
    "In this notebook, we will learn how to work with Pandas DataFrames and perform some advanced visualisations to draw insights. We'll demonstrate this by working through an example. \n",
    "\n",
    "Let's start by importing the libraries we're going to need and loading a dataset about football players and their statistics."
   ]
  },
  {
   "cell_type": "code",
   "execution_count": 5,
   "metadata": {
    "colab": {},
    "colab_type": "code",
    "id": "hmuifXAWrG-V"
   },
   "outputs": [],
   "source": [
    "import pandas as pd\n",
    "import numpy as np\n",
    "from matplotlib import pyplot as plt\n",
    "import seaborn as sns"
   ]
  },
  {
   "cell_type": "code",
   "execution_count": 4,
   "metadata": {},
   "outputs": [],
   "source": [
    "soccer = pd.read_csv(\"https://raw.githubusercontent.com/Explore-AI/Public-Data/master/Data/fundamentals/football_players.csv\",low_memory=False)"
   ]
  },
  {
   "cell_type": "markdown",
   "metadata": {},
   "source": [
    "Let's change the following columns to numerical values to make it possible to perform numerical operations on them."
   ]
  },
  {
   "cell_type": "code",
   "execution_count": 3,
   "metadata": {
    "tags": []
   },
   "outputs": [],
   "source": [
    "cols = ['Overall', 'Acceleration', 'Aggression',\n",
    "       'Agility', 'Balance', 'Ball control', 'Composure', 'Crossing', 'Curve',\n",
    "       'Dribbling', 'Finishing', 'Free kick accuracy', 'GK diving',\n",
    "       'GK handling', 'GK kicking', 'GK positioning', 'GK reflexes',\n",
    "       'Heading accuracy', 'Interceptions', 'Jumping', 'Long passing',\n",
    "       'Long shots', 'Marking', 'Penalties', 'Positioning', 'Reactions',\n",
    "       'Short passing', 'Shot power', 'Sliding tackle', 'Sprint speed',\n",
    "       'Stamina', 'Standing tackle', 'Strength', 'Vision', 'Volleys']\n",
    "\n",
    "soccer[cols] = soccer[cols].apply(pd.to_numeric, errors='coerce', axis=1)"
   ]
  },
  {
   "cell_type": "markdown",
   "metadata": {},
   "source": [
    "The following code block shows the first 10 rows of the DataFrame."
   ]
  },
  {
   "cell_type": "code",
   "execution_count": 7,
   "metadata": {
    "colab": {
     "base_uri": "https://localhost:8080/",
     "height": 1000
    },
    "colab_type": "code",
    "id": "LIjiew6arG-j",
    "outputId": "5f82b1b9-5904-4a07-ba61-36551b48419f"
   },
   "outputs": [
    {
     "data": {
      "text/html": [
       "<div>\n",
       "<style scoped>\n",
       "    .dataframe tbody tr th:only-of-type {\n",
       "        vertical-align: middle;\n",
       "    }\n",
       "\n",
       "    .dataframe tbody tr th {\n",
       "        vertical-align: top;\n",
       "    }\n",
       "\n",
       "    .dataframe thead th {\n",
       "        text-align: right;\n",
       "    }\n",
       "</style>\n",
       "<table border=\"1\" class=\"dataframe\">\n",
       "  <thead>\n",
       "    <tr style=\"text-align: right;\">\n",
       "      <th></th>\n",
       "      <th>Name</th>\n",
       "      <th>Age</th>\n",
       "      <th>Nationality</th>\n",
       "      <th>Overall</th>\n",
       "      <th>Acceleration</th>\n",
       "      <th>Aggression</th>\n",
       "      <th>Agility</th>\n",
       "      <th>Balance</th>\n",
       "      <th>Ball control</th>\n",
       "      <th>Composure</th>\n",
       "      <th>...</th>\n",
       "      <th>Short passing</th>\n",
       "      <th>Shot power</th>\n",
       "      <th>Sliding tackle</th>\n",
       "      <th>Sprint speed</th>\n",
       "      <th>Stamina</th>\n",
       "      <th>Standing tackle</th>\n",
       "      <th>Strength</th>\n",
       "      <th>Vision</th>\n",
       "      <th>Volleys</th>\n",
       "      <th>Preferred Positions</th>\n",
       "    </tr>\n",
       "  </thead>\n",
       "  <tbody>\n",
       "    <tr>\n",
       "      <th>0</th>\n",
       "      <td>Cristiano Ronaldo</td>\n",
       "      <td>32</td>\n",
       "      <td>Portugal</td>\n",
       "      <td>94</td>\n",
       "      <td>89</td>\n",
       "      <td>63</td>\n",
       "      <td>89</td>\n",
       "      <td>63</td>\n",
       "      <td>93</td>\n",
       "      <td>95</td>\n",
       "      <td>...</td>\n",
       "      <td>83</td>\n",
       "      <td>94</td>\n",
       "      <td>23</td>\n",
       "      <td>91</td>\n",
       "      <td>92</td>\n",
       "      <td>31</td>\n",
       "      <td>80</td>\n",
       "      <td>85</td>\n",
       "      <td>88</td>\n",
       "      <td>ST LW</td>\n",
       "    </tr>\n",
       "    <tr>\n",
       "      <th>1</th>\n",
       "      <td>L. Messi</td>\n",
       "      <td>30</td>\n",
       "      <td>Argentina</td>\n",
       "      <td>93</td>\n",
       "      <td>92</td>\n",
       "      <td>48</td>\n",
       "      <td>90</td>\n",
       "      <td>95</td>\n",
       "      <td>95</td>\n",
       "      <td>96</td>\n",
       "      <td>...</td>\n",
       "      <td>88</td>\n",
       "      <td>85</td>\n",
       "      <td>26</td>\n",
       "      <td>87</td>\n",
       "      <td>73</td>\n",
       "      <td>28</td>\n",
       "      <td>59</td>\n",
       "      <td>90</td>\n",
       "      <td>85</td>\n",
       "      <td>RW</td>\n",
       "    </tr>\n",
       "    <tr>\n",
       "      <th>2</th>\n",
       "      <td>Neymar</td>\n",
       "      <td>25</td>\n",
       "      <td>Brazil</td>\n",
       "      <td>92</td>\n",
       "      <td>94</td>\n",
       "      <td>56</td>\n",
       "      <td>96</td>\n",
       "      <td>82</td>\n",
       "      <td>95</td>\n",
       "      <td>92</td>\n",
       "      <td>...</td>\n",
       "      <td>81</td>\n",
       "      <td>80</td>\n",
       "      <td>33</td>\n",
       "      <td>90</td>\n",
       "      <td>78</td>\n",
       "      <td>24</td>\n",
       "      <td>53</td>\n",
       "      <td>80</td>\n",
       "      <td>83</td>\n",
       "      <td>LW</td>\n",
       "    </tr>\n",
       "    <tr>\n",
       "      <th>3</th>\n",
       "      <td>L. Suárez</td>\n",
       "      <td>30</td>\n",
       "      <td>Uruguay</td>\n",
       "      <td>92</td>\n",
       "      <td>88</td>\n",
       "      <td>78</td>\n",
       "      <td>86</td>\n",
       "      <td>60</td>\n",
       "      <td>91</td>\n",
       "      <td>83</td>\n",
       "      <td>...</td>\n",
       "      <td>83</td>\n",
       "      <td>87</td>\n",
       "      <td>38</td>\n",
       "      <td>77</td>\n",
       "      <td>89</td>\n",
       "      <td>45</td>\n",
       "      <td>80</td>\n",
       "      <td>84</td>\n",
       "      <td>88</td>\n",
       "      <td>ST</td>\n",
       "    </tr>\n",
       "    <tr>\n",
       "      <th>4</th>\n",
       "      <td>M. Neuer</td>\n",
       "      <td>31</td>\n",
       "      <td>Germany</td>\n",
       "      <td>92</td>\n",
       "      <td>58</td>\n",
       "      <td>29</td>\n",
       "      <td>52</td>\n",
       "      <td>35</td>\n",
       "      <td>48</td>\n",
       "      <td>70</td>\n",
       "      <td>...</td>\n",
       "      <td>55</td>\n",
       "      <td>25</td>\n",
       "      <td>11</td>\n",
       "      <td>61</td>\n",
       "      <td>44</td>\n",
       "      <td>10</td>\n",
       "      <td>83</td>\n",
       "      <td>70</td>\n",
       "      <td>11</td>\n",
       "      <td>GK</td>\n",
       "    </tr>\n",
       "    <tr>\n",
       "      <th>5</th>\n",
       "      <td>R. Lewandowski</td>\n",
       "      <td>28</td>\n",
       "      <td>Poland</td>\n",
       "      <td>91</td>\n",
       "      <td>79</td>\n",
       "      <td>80</td>\n",
       "      <td>78</td>\n",
       "      <td>80</td>\n",
       "      <td>89</td>\n",
       "      <td>87</td>\n",
       "      <td>...</td>\n",
       "      <td>83</td>\n",
       "      <td>88</td>\n",
       "      <td>19</td>\n",
       "      <td>83</td>\n",
       "      <td>79</td>\n",
       "      <td>42</td>\n",
       "      <td>84</td>\n",
       "      <td>78</td>\n",
       "      <td>87</td>\n",
       "      <td>ST</td>\n",
       "    </tr>\n",
       "    <tr>\n",
       "      <th>6</th>\n",
       "      <td>De Gea</td>\n",
       "      <td>26</td>\n",
       "      <td>Spain</td>\n",
       "      <td>90</td>\n",
       "      <td>57</td>\n",
       "      <td>38</td>\n",
       "      <td>60</td>\n",
       "      <td>43</td>\n",
       "      <td>42</td>\n",
       "      <td>64</td>\n",
       "      <td>...</td>\n",
       "      <td>50</td>\n",
       "      <td>31</td>\n",
       "      <td>13</td>\n",
       "      <td>58</td>\n",
       "      <td>40</td>\n",
       "      <td>21</td>\n",
       "      <td>64</td>\n",
       "      <td>68</td>\n",
       "      <td>13</td>\n",
       "      <td>GK</td>\n",
       "    </tr>\n",
       "    <tr>\n",
       "      <th>7</th>\n",
       "      <td>E. Hazard</td>\n",
       "      <td>26</td>\n",
       "      <td>Belgium</td>\n",
       "      <td>90</td>\n",
       "      <td>93</td>\n",
       "      <td>54</td>\n",
       "      <td>93</td>\n",
       "      <td>91</td>\n",
       "      <td>92</td>\n",
       "      <td>87</td>\n",
       "      <td>...</td>\n",
       "      <td>86</td>\n",
       "      <td>79</td>\n",
       "      <td>22</td>\n",
       "      <td>87</td>\n",
       "      <td>79</td>\n",
       "      <td>27</td>\n",
       "      <td>65</td>\n",
       "      <td>86</td>\n",
       "      <td>79</td>\n",
       "      <td>LW</td>\n",
       "    </tr>\n",
       "    <tr>\n",
       "      <th>8</th>\n",
       "      <td>T. Kroos</td>\n",
       "      <td>27</td>\n",
       "      <td>Germany</td>\n",
       "      <td>90</td>\n",
       "      <td>60</td>\n",
       "      <td>60</td>\n",
       "      <td>71</td>\n",
       "      <td>69</td>\n",
       "      <td>89</td>\n",
       "      <td>85</td>\n",
       "      <td>...</td>\n",
       "      <td>90</td>\n",
       "      <td>87</td>\n",
       "      <td>69</td>\n",
       "      <td>52</td>\n",
       "      <td>77</td>\n",
       "      <td>82</td>\n",
       "      <td>74</td>\n",
       "      <td>88</td>\n",
       "      <td>82</td>\n",
       "      <td>CDM CM</td>\n",
       "    </tr>\n",
       "    <tr>\n",
       "      <th>9</th>\n",
       "      <td>G. Higuaín</td>\n",
       "      <td>29</td>\n",
       "      <td>Argentina</td>\n",
       "      <td>90</td>\n",
       "      <td>78</td>\n",
       "      <td>50</td>\n",
       "      <td>75</td>\n",
       "      <td>69</td>\n",
       "      <td>85</td>\n",
       "      <td>86</td>\n",
       "      <td>...</td>\n",
       "      <td>75</td>\n",
       "      <td>88</td>\n",
       "      <td>18</td>\n",
       "      <td>80</td>\n",
       "      <td>72</td>\n",
       "      <td>22</td>\n",
       "      <td>85</td>\n",
       "      <td>70</td>\n",
       "      <td>88</td>\n",
       "      <td>ST</td>\n",
       "    </tr>\n",
       "  </tbody>\n",
       "</table>\n",
       "<p>10 rows × 39 columns</p>\n",
       "</div>"
      ],
      "text/plain": [
       "                Name  Age Nationality  Overall Acceleration Aggression  \\\n",
       "0  Cristiano Ronaldo   32    Portugal       94       89         63       \n",
       "1           L. Messi   30   Argentina       93       92         48       \n",
       "2             Neymar   25      Brazil       92       94         56       \n",
       "3          L. Suárez   30     Uruguay       92       88         78       \n",
       "4           M. Neuer   31     Germany       92       58         29       \n",
       "5     R. Lewandowski   28      Poland       91       79         80       \n",
       "6             De Gea   26       Spain       90       57         38       \n",
       "7          E. Hazard   26     Belgium       90       93         54       \n",
       "8           T. Kroos   27     Germany       90       60         60       \n",
       "9         G. Higuaín   29   Argentina       90       78         50       \n",
       "\n",
       "  Agility Balance Ball control Composure  ... Short passing Shot power  \\\n",
       "0  89      63           93        95      ...        83         94       \n",
       "1  90      95           95        96      ...        88         85       \n",
       "2  96      82           95        92      ...        81         80       \n",
       "3  86      60           91        83      ...        83         87       \n",
       "4  52      35           48        70      ...        55         25       \n",
       "5  78      80           89        87      ...        83         88       \n",
       "6  60      43           42        64      ...        50         31       \n",
       "7  93      91           92        87      ...        86         79       \n",
       "8  71      69           89        85      ...        90         87       \n",
       "9  75      69           85        86      ...        75         88       \n",
       "\n",
       "  Sliding tackle Sprint speed Stamina Standing tackle Strength  Vision  \\\n",
       "0         23           91      92              31       80      85       \n",
       "1         26           87      73              28       59      90       \n",
       "2         33           90      78              24       53      80       \n",
       "3         38           77      89              45       80      84       \n",
       "4         11           61      44              10       83      70       \n",
       "5         19           83      79              42       84      78       \n",
       "6         13           58      40              21       64      68       \n",
       "7         22           87      79              27       65      86       \n",
       "8         69           52      77              82       74      88       \n",
       "9         18           80      72              22       85      70       \n",
       "\n",
       "  Volleys Preferred Positions  \n",
       "0  88                  ST LW   \n",
       "1  85                     RW   \n",
       "2  83                     LW   \n",
       "3  88                     ST   \n",
       "4  11                     GK   \n",
       "5  87                     ST   \n",
       "6  13                     GK   \n",
       "7  79                     LW   \n",
       "8  82                 CDM CM   \n",
       "9  88                     ST   \n",
       "\n",
       "[10 rows x 39 columns]"
      ]
     },
     "execution_count": 7,
     "metadata": {},
     "output_type": "execute_result"
    }
   ],
   "source": [
    "soccer.head(10)"
   ]
  },
  {
   "cell_type": "markdown",
   "metadata": {},
   "source": [
    "Let's have a look at the descriptive statistics of each column to see if we can spot any anomalies."
   ]
  },
  {
   "cell_type": "code",
   "execution_count": 10,
   "metadata": {},
   "outputs": [
    {
     "data": {
      "text/html": [
       "<div>\n",
       "<style scoped>\n",
       "    .dataframe tbody tr th:only-of-type {\n",
       "        vertical-align: middle;\n",
       "    }\n",
       "\n",
       "    .dataframe tbody tr th {\n",
       "        vertical-align: top;\n",
       "    }\n",
       "\n",
       "    .dataframe thead th {\n",
       "        text-align: right;\n",
       "    }\n",
       "</style>\n",
       "<table border=\"1\" class=\"dataframe\">\n",
       "  <thead>\n",
       "    <tr style=\"text-align: right;\">\n",
       "      <th></th>\n",
       "      <th>Age</th>\n",
       "      <th>Overall</th>\n",
       "    </tr>\n",
       "  </thead>\n",
       "  <tbody>\n",
       "    <tr>\n",
       "      <th>count</th>\n",
       "      <td>17981.000000</td>\n",
       "      <td>17981.000000</td>\n",
       "    </tr>\n",
       "    <tr>\n",
       "      <th>mean</th>\n",
       "      <td>25.144541</td>\n",
       "      <td>66.247984</td>\n",
       "    </tr>\n",
       "    <tr>\n",
       "      <th>std</th>\n",
       "      <td>4.614272</td>\n",
       "      <td>6.987965</td>\n",
       "    </tr>\n",
       "    <tr>\n",
       "      <th>min</th>\n",
       "      <td>16.000000</td>\n",
       "      <td>46.000000</td>\n",
       "    </tr>\n",
       "    <tr>\n",
       "      <th>25%</th>\n",
       "      <td>21.000000</td>\n",
       "      <td>62.000000</td>\n",
       "    </tr>\n",
       "    <tr>\n",
       "      <th>50%</th>\n",
       "      <td>25.000000</td>\n",
       "      <td>66.000000</td>\n",
       "    </tr>\n",
       "    <tr>\n",
       "      <th>75%</th>\n",
       "      <td>28.000000</td>\n",
       "      <td>71.000000</td>\n",
       "    </tr>\n",
       "    <tr>\n",
       "      <th>max</th>\n",
       "      <td>47.000000</td>\n",
       "      <td>94.000000</td>\n",
       "    </tr>\n",
       "  </tbody>\n",
       "</table>\n",
       "</div>"
      ],
      "text/plain": [
       "                Age       Overall\n",
       "count  17981.000000  17981.000000\n",
       "mean      25.144541     66.247984\n",
       "std        4.614272      6.987965\n",
       "min       16.000000     46.000000\n",
       "25%       21.000000     62.000000\n",
       "50%       25.000000     66.000000\n",
       "75%       28.000000     71.000000\n",
       "max       47.000000     94.000000"
      ]
     },
     "execution_count": 10,
     "metadata": {},
     "output_type": "execute_result"
    }
   ],
   "source": [
    "soccer.describe()"
   ]
  },
  {
   "cell_type": "markdown",
   "metadata": {},
   "source": [
    "It would appear that we have `17981` entries in total, with some `NaN` values and some values that fall outside of the expected stats range.\n",
    "\n",
    "We would have difficulty comparing an acceleration score of 67 with an anomaly score of 33270, where we expected all scores to fall below 100.\n",
    "\n",
    "Let's convert all statistics > 100 to `NaN` and see the summary statistics again."
   ]
  },
  {
   "cell_type": "code",
   "execution_count": 12,
   "metadata": {},
   "outputs": [
    {
     "data": {
      "text/html": [
       "<div>\n",
       "<style scoped>\n",
       "    .dataframe tbody tr th:only-of-type {\n",
       "        vertical-align: middle;\n",
       "    }\n",
       "\n",
       "    .dataframe tbody tr th {\n",
       "        vertical-align: top;\n",
       "    }\n",
       "\n",
       "    .dataframe thead th {\n",
       "        text-align: right;\n",
       "    }\n",
       "</style>\n",
       "<table border=\"1\" class=\"dataframe\">\n",
       "  <thead>\n",
       "    <tr style=\"text-align: right;\">\n",
       "      <th></th>\n",
       "      <th>Age</th>\n",
       "      <th>Overall</th>\n",
       "    </tr>\n",
       "  </thead>\n",
       "  <tbody>\n",
       "    <tr>\n",
       "      <th>count</th>\n",
       "      <td>17981.000000</td>\n",
       "      <td>17981.000000</td>\n",
       "    </tr>\n",
       "    <tr>\n",
       "      <th>mean</th>\n",
       "      <td>25.144541</td>\n",
       "      <td>66.247984</td>\n",
       "    </tr>\n",
       "    <tr>\n",
       "      <th>std</th>\n",
       "      <td>4.614272</td>\n",
       "      <td>6.987965</td>\n",
       "    </tr>\n",
       "    <tr>\n",
       "      <th>min</th>\n",
       "      <td>16.000000</td>\n",
       "      <td>46.000000</td>\n",
       "    </tr>\n",
       "    <tr>\n",
       "      <th>25%</th>\n",
       "      <td>21.000000</td>\n",
       "      <td>62.000000</td>\n",
       "    </tr>\n",
       "    <tr>\n",
       "      <th>50%</th>\n",
       "      <td>25.000000</td>\n",
       "      <td>66.000000</td>\n",
       "    </tr>\n",
       "    <tr>\n",
       "      <th>75%</th>\n",
       "      <td>28.000000</td>\n",
       "      <td>71.000000</td>\n",
       "    </tr>\n",
       "    <tr>\n",
       "      <th>max</th>\n",
       "      <td>47.000000</td>\n",
       "      <td>94.000000</td>\n",
       "    </tr>\n",
       "  </tbody>\n",
       "</table>\n",
       "</div>"
      ],
      "text/plain": [
       "                Age       Overall\n",
       "count  17981.000000  17981.000000\n",
       "mean      25.144541     66.247984\n",
       "std        4.614272      6.987965\n",
       "min       16.000000     46.000000\n",
       "25%       21.000000     62.000000\n",
       "50%       25.000000     66.000000\n",
       "75%       28.000000     71.000000\n",
       "max       47.000000     94.000000"
      ]
     },
     "execution_count": 12,
     "metadata": {},
     "output_type": "execute_result"
    }
   ],
   "source": [
    "for column in soccer.describe().columns:\n",
    "    soccer[column] = soccer[column].apply(lambda x: x if x<=100 else np.nan)\n",
    "    \n",
    "soccer.describe()"
   ]
  },
  {
   "cell_type": "markdown",
   "metadata": {},
   "source": [
    "Now we have a much better dataset with all the anomalies removed, so we can easily compare the values that are available to us."
   ]
  },
  {
   "cell_type": "markdown",
   "metadata": {
    "colab_type": "text",
    "id": "me-KGRW5rG-y"
   },
   "source": [
    "## Slicing"
   ]
  },
  {
   "cell_type": "markdown",
   "metadata": {
    "colab_type": "text",
    "id": "3GOa4PanrG-1"
   },
   "source": [
    "Slicing is important for extracting a subset of a DataFrame. Using ``.iloc[]``, we will be able to slice the DataFrame similarly to the way we would slice a list. It uses number slicing to get **positional** records. The syntax for slicing is as follows:\n",
    "\n",
    "```\n",
    "dataframe.iloc[start_row:stop_row , start_column:stop_column]\n",
    "``` \n",
    "\n",
    "When slicing in Pandas the start bound is included in the output, i.e. if we slice rows `[0:5]`, we will extract rows 0 to 4. \n",
    "\n",
    "Another slicing method is to use the ```.loc[]``` function native to Pandas. `.loc[]` allows us to slice based on data _labels_, as opposed to `.iloc[]` which slices based on the DataFrame _index_. An easy way to remember the difference is the **i** in `.iloc[]` is for **i**ndex."
   ]
  },
  {
   "cell_type": "code",
   "execution_count": 13,
   "metadata": {
    "colab": {
     "base_uri": "https://localhost:8080/",
     "height": 530
    },
    "colab_type": "code",
    "id": "j-hZpSfYrG-2",
    "outputId": "f56c76d9-20e6-42bb-f3de-3fa667882a9b"
   },
   "outputs": [
    {
     "data": {
      "text/html": [
       "<div>\n",
       "<style scoped>\n",
       "    .dataframe tbody tr th:only-of-type {\n",
       "        vertical-align: middle;\n",
       "    }\n",
       "\n",
       "    .dataframe tbody tr th {\n",
       "        vertical-align: top;\n",
       "    }\n",
       "\n",
       "    .dataframe thead th {\n",
       "        text-align: right;\n",
       "    }\n",
       "</style>\n",
       "<table border=\"1\" class=\"dataframe\">\n",
       "  <thead>\n",
       "    <tr style=\"text-align: right;\">\n",
       "      <th></th>\n",
       "      <th>Name</th>\n",
       "      <th>Age</th>\n",
       "      <th>Nationality</th>\n",
       "      <th>Overall</th>\n",
       "      <th>Acceleration</th>\n",
       "      <th>Aggression</th>\n",
       "      <th>Agility</th>\n",
       "      <th>Balance</th>\n",
       "      <th>Ball control</th>\n",
       "      <th>Composure</th>\n",
       "      <th>...</th>\n",
       "      <th>Short passing</th>\n",
       "      <th>Shot power</th>\n",
       "      <th>Sliding tackle</th>\n",
       "      <th>Sprint speed</th>\n",
       "      <th>Stamina</th>\n",
       "      <th>Standing tackle</th>\n",
       "      <th>Strength</th>\n",
       "      <th>Vision</th>\n",
       "      <th>Volleys</th>\n",
       "      <th>Preferred Positions</th>\n",
       "    </tr>\n",
       "  </thead>\n",
       "  <tbody>\n",
       "    <tr>\n",
       "      <th>1</th>\n",
       "      <td>L. Messi</td>\n",
       "      <td>30</td>\n",
       "      <td>Argentina</td>\n",
       "      <td>93</td>\n",
       "      <td>92</td>\n",
       "      <td>48</td>\n",
       "      <td>90</td>\n",
       "      <td>95</td>\n",
       "      <td>95</td>\n",
       "      <td>96</td>\n",
       "      <td>...</td>\n",
       "      <td>88</td>\n",
       "      <td>85</td>\n",
       "      <td>26</td>\n",
       "      <td>87</td>\n",
       "      <td>73</td>\n",
       "      <td>28</td>\n",
       "      <td>59</td>\n",
       "      <td>90</td>\n",
       "      <td>85</td>\n",
       "      <td>RW</td>\n",
       "    </tr>\n",
       "    <tr>\n",
       "      <th>2</th>\n",
       "      <td>Neymar</td>\n",
       "      <td>25</td>\n",
       "      <td>Brazil</td>\n",
       "      <td>92</td>\n",
       "      <td>94</td>\n",
       "      <td>56</td>\n",
       "      <td>96</td>\n",
       "      <td>82</td>\n",
       "      <td>95</td>\n",
       "      <td>92</td>\n",
       "      <td>...</td>\n",
       "      <td>81</td>\n",
       "      <td>80</td>\n",
       "      <td>33</td>\n",
       "      <td>90</td>\n",
       "      <td>78</td>\n",
       "      <td>24</td>\n",
       "      <td>53</td>\n",
       "      <td>80</td>\n",
       "      <td>83</td>\n",
       "      <td>LW</td>\n",
       "    </tr>\n",
       "    <tr>\n",
       "      <th>3</th>\n",
       "      <td>L. Suárez</td>\n",
       "      <td>30</td>\n",
       "      <td>Uruguay</td>\n",
       "      <td>92</td>\n",
       "      <td>88</td>\n",
       "      <td>78</td>\n",
       "      <td>86</td>\n",
       "      <td>60</td>\n",
       "      <td>91</td>\n",
       "      <td>83</td>\n",
       "      <td>...</td>\n",
       "      <td>83</td>\n",
       "      <td>87</td>\n",
       "      <td>38</td>\n",
       "      <td>77</td>\n",
       "      <td>89</td>\n",
       "      <td>45</td>\n",
       "      <td>80</td>\n",
       "      <td>84</td>\n",
       "      <td>88</td>\n",
       "      <td>ST</td>\n",
       "    </tr>\n",
       "    <tr>\n",
       "      <th>4</th>\n",
       "      <td>M. Neuer</td>\n",
       "      <td>31</td>\n",
       "      <td>Germany</td>\n",
       "      <td>92</td>\n",
       "      <td>58</td>\n",
       "      <td>29</td>\n",
       "      <td>52</td>\n",
       "      <td>35</td>\n",
       "      <td>48</td>\n",
       "      <td>70</td>\n",
       "      <td>...</td>\n",
       "      <td>55</td>\n",
       "      <td>25</td>\n",
       "      <td>11</td>\n",
       "      <td>61</td>\n",
       "      <td>44</td>\n",
       "      <td>10</td>\n",
       "      <td>83</td>\n",
       "      <td>70</td>\n",
       "      <td>11</td>\n",
       "      <td>GK</td>\n",
       "    </tr>\n",
       "    <tr>\n",
       "      <th>5</th>\n",
       "      <td>R. Lewandowski</td>\n",
       "      <td>28</td>\n",
       "      <td>Poland</td>\n",
       "      <td>91</td>\n",
       "      <td>79</td>\n",
       "      <td>80</td>\n",
       "      <td>78</td>\n",
       "      <td>80</td>\n",
       "      <td>89</td>\n",
       "      <td>87</td>\n",
       "      <td>...</td>\n",
       "      <td>83</td>\n",
       "      <td>88</td>\n",
       "      <td>19</td>\n",
       "      <td>83</td>\n",
       "      <td>79</td>\n",
       "      <td>42</td>\n",
       "      <td>84</td>\n",
       "      <td>78</td>\n",
       "      <td>87</td>\n",
       "      <td>ST</td>\n",
       "    </tr>\n",
       "    <tr>\n",
       "      <th>...</th>\n",
       "      <td>...</td>\n",
       "      <td>...</td>\n",
       "      <td>...</td>\n",
       "      <td>...</td>\n",
       "      <td>...</td>\n",
       "      <td>...</td>\n",
       "      <td>...</td>\n",
       "      <td>...</td>\n",
       "      <td>...</td>\n",
       "      <td>...</td>\n",
       "      <td>...</td>\n",
       "      <td>...</td>\n",
       "      <td>...</td>\n",
       "      <td>...</td>\n",
       "      <td>...</td>\n",
       "      <td>...</td>\n",
       "      <td>...</td>\n",
       "      <td>...</td>\n",
       "      <td>...</td>\n",
       "      <td>...</td>\n",
       "      <td>...</td>\n",
       "    </tr>\n",
       "    <tr>\n",
       "      <th>96</th>\n",
       "      <td>D. Alli</td>\n",
       "      <td>21</td>\n",
       "      <td>England</td>\n",
       "      <td>84</td>\n",
       "      <td>77</td>\n",
       "      <td>84</td>\n",
       "      <td>74</td>\n",
       "      <td>62</td>\n",
       "      <td>85</td>\n",
       "      <td>86</td>\n",
       "      <td>...</td>\n",
       "      <td>83</td>\n",
       "      <td>77</td>\n",
       "      <td>57</td>\n",
       "      <td>76</td>\n",
       "      <td>89</td>\n",
       "      <td>63</td>\n",
       "      <td>71</td>\n",
       "      <td>83</td>\n",
       "      <td>76</td>\n",
       "      <td>LM CF CAM</td>\n",
       "    </tr>\n",
       "    <tr>\n",
       "      <th>97</th>\n",
       "      <td>S. Mané</td>\n",
       "      <td>25</td>\n",
       "      <td>Senegal</td>\n",
       "      <td>84</td>\n",
       "      <td>94</td>\n",
       "      <td>73</td>\n",
       "      <td>89</td>\n",
       "      <td>85</td>\n",
       "      <td>84</td>\n",
       "      <td>78</td>\n",
       "      <td>...</td>\n",
       "      <td>77</td>\n",
       "      <td>77</td>\n",
       "      <td>38</td>\n",
       "      <td>92</td>\n",
       "      <td>82</td>\n",
       "      <td>35</td>\n",
       "      <td>72</td>\n",
       "      <td>78</td>\n",
       "      <td>68</td>\n",
       "      <td>LW RW</td>\n",
       "    </tr>\n",
       "    <tr>\n",
       "      <th>98</th>\n",
       "      <td>Carvajal</td>\n",
       "      <td>25</td>\n",
       "      <td>Spain</td>\n",
       "      <td>84</td>\n",
       "      <td>76</td>\n",
       "      <td>81</td>\n",
       "      <td>82</td>\n",
       "      <td>79</td>\n",
       "      <td>83</td>\n",
       "      <td>74</td>\n",
       "      <td>...</td>\n",
       "      <td>81</td>\n",
       "      <td>64</td>\n",
       "      <td>86</td>\n",
       "      <td>86</td>\n",
       "      <td>84</td>\n",
       "      <td>85</td>\n",
       "      <td>75</td>\n",
       "      <td>57</td>\n",
       "      <td>34</td>\n",
       "      <td>RB</td>\n",
       "    </tr>\n",
       "    <tr>\n",
       "      <th>99</th>\n",
       "      <td>J. Draxler</td>\n",
       "      <td>23</td>\n",
       "      <td>Germany</td>\n",
       "      <td>84</td>\n",
       "      <td>76</td>\n",
       "      <td>48</td>\n",
       "      <td>81</td>\n",
       "      <td>75</td>\n",
       "      <td>87</td>\n",
       "      <td>81</td>\n",
       "      <td>...</td>\n",
       "      <td>84</td>\n",
       "      <td>86</td>\n",
       "      <td>26</td>\n",
       "      <td>79</td>\n",
       "      <td>68</td>\n",
       "      <td>35</td>\n",
       "      <td>67</td>\n",
       "      <td>84</td>\n",
       "      <td>84</td>\n",
       "      <td>LM CAM LW</td>\n",
       "    </tr>\n",
       "    <tr>\n",
       "      <th>100</th>\n",
       "      <td>M. Icardi</td>\n",
       "      <td>24</td>\n",
       "      <td>Argentina</td>\n",
       "      <td>84</td>\n",
       "      <td>75</td>\n",
       "      <td>55</td>\n",
       "      <td>74</td>\n",
       "      <td>76</td>\n",
       "      <td>77</td>\n",
       "      <td>82</td>\n",
       "      <td>...</td>\n",
       "      <td>73</td>\n",
       "      <td>81</td>\n",
       "      <td>21</td>\n",
       "      <td>80</td>\n",
       "      <td>70</td>\n",
       "      <td>21</td>\n",
       "      <td>74</td>\n",
       "      <td>64</td>\n",
       "      <td>81</td>\n",
       "      <td>ST</td>\n",
       "    </tr>\n",
       "  </tbody>\n",
       "</table>\n",
       "<p>100 rows × 39 columns</p>\n",
       "</div>"
      ],
      "text/plain": [
       "               Name  Age Nationality  Overall Acceleration Aggression Agility  \\\n",
       "1          L. Messi   30   Argentina       93       92         48      90       \n",
       "2            Neymar   25      Brazil       92       94         56      96       \n",
       "3         L. Suárez   30     Uruguay       92       88         78      86       \n",
       "4          M. Neuer   31     Germany       92       58         29      52       \n",
       "5    R. Lewandowski   28      Poland       91       79         80      78       \n",
       "..              ...  ...         ...      ...          ...        ...     ...   \n",
       "96          D. Alli   21     England       84       77         84      74       \n",
       "97          S. Mané   25     Senegal       84       94         73      89       \n",
       "98         Carvajal   25       Spain       84       76         81      82       \n",
       "99       J. Draxler   23     Germany       84       76         48      81       \n",
       "100       M. Icardi   24   Argentina       84       75         55      74       \n",
       "\n",
       "    Balance Ball control Composure  ... Short passing Shot power  \\\n",
       "1    95           95        96      ...        88         85       \n",
       "2    82           95        92      ...        81         80       \n",
       "3    60           91        83      ...        83         87       \n",
       "4    35           48        70      ...        55         25       \n",
       "5    80           89        87      ...        83         88       \n",
       "..      ...          ...       ...  ...           ...        ...   \n",
       "96   62           85        86      ...        83         77       \n",
       "97   85           84        78      ...        77         77       \n",
       "98   79           83        74      ...        81         64       \n",
       "99   75           87        81      ...        84         86       \n",
       "100  76           77        82      ...        73         81       \n",
       "\n",
       "    Sliding tackle Sprint speed Stamina Standing tackle Strength  Vision  \\\n",
       "1           26           87      73              28       59      90       \n",
       "2           33           90      78              24       53      80       \n",
       "3           38           77      89              45       80      84       \n",
       "4           11           61      44              10       83      70       \n",
       "5           19           83      79              42       84      78       \n",
       "..             ...          ...     ...             ...      ...     ...   \n",
       "96          57           76      89              63       71      83       \n",
       "97          38           92      82              35       72      78       \n",
       "98          86           86      84              85       75      57       \n",
       "99          26           79      68              35       67      84       \n",
       "100         21           80      70              21       74      64       \n",
       "\n",
       "    Volleys Preferred Positions  \n",
       "1    85                     RW   \n",
       "2    83                     LW   \n",
       "3    88                     ST   \n",
       "4    11                     GK   \n",
       "5    87                     ST   \n",
       "..      ...                 ...  \n",
       "96   76              LM CF CAM   \n",
       "97   68                  LW RW   \n",
       "98   34                     RB   \n",
       "99   84              LM CAM LW   \n",
       "100  81                     ST   \n",
       "\n",
       "[100 rows x 39 columns]"
      ]
     },
     "execution_count": 13,
     "metadata": {},
     "output_type": "execute_result"
    }
   ],
   "source": [
    "soccer.iloc[1:101,:] # selects rows 1 to 100 from the DataFrame"
   ]
  },
  {
   "cell_type": "markdown",
   "metadata": {
    "colab_type": "text",
    "id": "bnpxkpK_rG_T"
   },
   "source": [
    "## Renaming columns\n",
    "\n",
    "In Python, it is good practice to label columns in a way that conforms to PEP 8 naming standards (for example, no spaces in the name). \n",
    "\n",
    "Below we illustrate how to change the name of a column in a Pandas DataFrame."
   ]
  },
  {
   "cell_type": "code",
   "execution_count": 14,
   "metadata": {
    "colab": {
     "base_uri": "https://localhost:8080/",
     "height": 313
    },
    "colab_type": "code",
    "id": "6ryJUJuOrG_U",
    "outputId": "e74a3b96-981e-4168-e303-0df8eb620325"
   },
   "outputs": [
    {
     "data": {
      "text/html": [
       "<div>\n",
       "<style scoped>\n",
       "    .dataframe tbody tr th:only-of-type {\n",
       "        vertical-align: middle;\n",
       "    }\n",
       "\n",
       "    .dataframe tbody tr th {\n",
       "        vertical-align: top;\n",
       "    }\n",
       "\n",
       "    .dataframe thead th {\n",
       "        text-align: right;\n",
       "    }\n",
       "</style>\n",
       "<table border=\"1\" class=\"dataframe\">\n",
       "  <thead>\n",
       "    <tr style=\"text-align: right;\">\n",
       "      <th></th>\n",
       "      <th>Name</th>\n",
       "      <th>Age</th>\n",
       "      <th>Nationality</th>\n",
       "      <th>Overall</th>\n",
       "      <th>Acceleration</th>\n",
       "      <th>Aggression</th>\n",
       "      <th>Agility</th>\n",
       "      <th>Balance</th>\n",
       "      <th>Ball control</th>\n",
       "      <th>Composure</th>\n",
       "      <th>...</th>\n",
       "      <th>Short passing</th>\n",
       "      <th>Shot power</th>\n",
       "      <th>Sliding tackle</th>\n",
       "      <th>Sprint speed</th>\n",
       "      <th>Stamina</th>\n",
       "      <th>Standing tackle</th>\n",
       "      <th>Strength</th>\n",
       "      <th>Vision</th>\n",
       "      <th>Volleys</th>\n",
       "      <th>Preferred_Positions</th>\n",
       "    </tr>\n",
       "  </thead>\n",
       "  <tbody>\n",
       "    <tr>\n",
       "      <th>0</th>\n",
       "      <td>Cristiano Ronaldo</td>\n",
       "      <td>32</td>\n",
       "      <td>Portugal</td>\n",
       "      <td>94</td>\n",
       "      <td>89</td>\n",
       "      <td>63</td>\n",
       "      <td>89</td>\n",
       "      <td>63</td>\n",
       "      <td>93</td>\n",
       "      <td>95</td>\n",
       "      <td>...</td>\n",
       "      <td>83</td>\n",
       "      <td>94</td>\n",
       "      <td>23</td>\n",
       "      <td>91</td>\n",
       "      <td>92</td>\n",
       "      <td>31</td>\n",
       "      <td>80</td>\n",
       "      <td>85</td>\n",
       "      <td>88</td>\n",
       "      <td>ST LW</td>\n",
       "    </tr>\n",
       "    <tr>\n",
       "      <th>1</th>\n",
       "      <td>L. Messi</td>\n",
       "      <td>30</td>\n",
       "      <td>Argentina</td>\n",
       "      <td>93</td>\n",
       "      <td>92</td>\n",
       "      <td>48</td>\n",
       "      <td>90</td>\n",
       "      <td>95</td>\n",
       "      <td>95</td>\n",
       "      <td>96</td>\n",
       "      <td>...</td>\n",
       "      <td>88</td>\n",
       "      <td>85</td>\n",
       "      <td>26</td>\n",
       "      <td>87</td>\n",
       "      <td>73</td>\n",
       "      <td>28</td>\n",
       "      <td>59</td>\n",
       "      <td>90</td>\n",
       "      <td>85</td>\n",
       "      <td>RW</td>\n",
       "    </tr>\n",
       "    <tr>\n",
       "      <th>2</th>\n",
       "      <td>Neymar</td>\n",
       "      <td>25</td>\n",
       "      <td>Brazil</td>\n",
       "      <td>92</td>\n",
       "      <td>94</td>\n",
       "      <td>56</td>\n",
       "      <td>96</td>\n",
       "      <td>82</td>\n",
       "      <td>95</td>\n",
       "      <td>92</td>\n",
       "      <td>...</td>\n",
       "      <td>81</td>\n",
       "      <td>80</td>\n",
       "      <td>33</td>\n",
       "      <td>90</td>\n",
       "      <td>78</td>\n",
       "      <td>24</td>\n",
       "      <td>53</td>\n",
       "      <td>80</td>\n",
       "      <td>83</td>\n",
       "      <td>LW</td>\n",
       "    </tr>\n",
       "    <tr>\n",
       "      <th>3</th>\n",
       "      <td>L. Suárez</td>\n",
       "      <td>30</td>\n",
       "      <td>Uruguay</td>\n",
       "      <td>92</td>\n",
       "      <td>88</td>\n",
       "      <td>78</td>\n",
       "      <td>86</td>\n",
       "      <td>60</td>\n",
       "      <td>91</td>\n",
       "      <td>83</td>\n",
       "      <td>...</td>\n",
       "      <td>83</td>\n",
       "      <td>87</td>\n",
       "      <td>38</td>\n",
       "      <td>77</td>\n",
       "      <td>89</td>\n",
       "      <td>45</td>\n",
       "      <td>80</td>\n",
       "      <td>84</td>\n",
       "      <td>88</td>\n",
       "      <td>ST</td>\n",
       "    </tr>\n",
       "    <tr>\n",
       "      <th>4</th>\n",
       "      <td>M. Neuer</td>\n",
       "      <td>31</td>\n",
       "      <td>Germany</td>\n",
       "      <td>92</td>\n",
       "      <td>58</td>\n",
       "      <td>29</td>\n",
       "      <td>52</td>\n",
       "      <td>35</td>\n",
       "      <td>48</td>\n",
       "      <td>70</td>\n",
       "      <td>...</td>\n",
       "      <td>55</td>\n",
       "      <td>25</td>\n",
       "      <td>11</td>\n",
       "      <td>61</td>\n",
       "      <td>44</td>\n",
       "      <td>10</td>\n",
       "      <td>83</td>\n",
       "      <td>70</td>\n",
       "      <td>11</td>\n",
       "      <td>GK</td>\n",
       "    </tr>\n",
       "  </tbody>\n",
       "</table>\n",
       "<p>5 rows × 39 columns</p>\n",
       "</div>"
      ],
      "text/plain": [
       "                Name  Age Nationality  Overall Acceleration Aggression  \\\n",
       "0  Cristiano Ronaldo   32    Portugal       94       89         63       \n",
       "1           L. Messi   30   Argentina       93       92         48       \n",
       "2             Neymar   25      Brazil       92       94         56       \n",
       "3          L. Suárez   30     Uruguay       92       88         78       \n",
       "4           M. Neuer   31     Germany       92       58         29       \n",
       "\n",
       "  Agility Balance Ball control Composure  ... Short passing Shot power  \\\n",
       "0  89      63           93        95      ...        83         94       \n",
       "1  90      95           95        96      ...        88         85       \n",
       "2  96      82           95        92      ...        81         80       \n",
       "3  86      60           91        83      ...        83         87       \n",
       "4  52      35           48        70      ...        55         25       \n",
       "\n",
       "  Sliding tackle Sprint speed Stamina Standing tackle Strength  Vision  \\\n",
       "0         23           91      92              31       80      85       \n",
       "1         26           87      73              28       59      90       \n",
       "2         33           90      78              24       53      80       \n",
       "3         38           77      89              45       80      84       \n",
       "4         11           61      44              10       83      70       \n",
       "\n",
       "  Volleys Preferred_Positions  \n",
       "0  88                  ST LW   \n",
       "1  85                     RW   \n",
       "2  83                     LW   \n",
       "3  88                     ST   \n",
       "4  11                     GK   \n",
       "\n",
       "[5 rows x 39 columns]"
      ]
     },
     "execution_count": 14,
     "metadata": {},
     "output_type": "execute_result"
    }
   ],
   "source": [
    "soccer = soccer.rename(columns = {\"Preferred Positions\": \"Preferred_Positions\"})\n",
    "soccer.head()"
   ]
  },
  {
   "cell_type": "markdown",
   "metadata": {
    "colab_type": "text",
    "id": "5kgjxQFrrG_g"
   },
   "source": [
    "## Working with data types"
   ]
  },
  {
   "cell_type": "markdown",
   "metadata": {
    "colab_type": "text",
    "id": "CvvQE_6qrG_i"
   },
   "source": [
    "Thinking back to previous lessons, we will remember that Python has different data types, each with their own characteristics and rules. We may remember that categorical data can have _grouping_ or _order_ and do not need to be (but can be) numerical. Examples would be:\n",
    "* Sex \n",
    "* Country of origin\n"
   ]
  },
  {
   "cell_type": "markdown",
   "metadata": {
    "colab_type": "text",
    "id": "SIpGZaTCrG_k"
   },
   "source": [
    "To find non-numerical categorical data in our DataFrame, we first use ```.select_dtypes(include/exclude)``` to find the data type. \n",
    "\n",
    "In Python, non-numerical data are usually stored as an ```object```. Let's identify the non-numeric data columns in the ```soccer``` DataFrame."
   ]
  },
  {
   "cell_type": "code",
   "execution_count": 15,
   "metadata": {
    "colab": {
     "base_uri": "https://localhost:8080/",
     "height": 424
    },
    "colab_type": "code",
    "id": "m6oqEHKsrG_l",
    "outputId": "c644d30c-5a07-414a-9914-c857660f71f8"
   },
   "outputs": [
    {
     "data": {
      "text/html": [
       "<div>\n",
       "<style scoped>\n",
       "    .dataframe tbody tr th:only-of-type {\n",
       "        vertical-align: middle;\n",
       "    }\n",
       "\n",
       "    .dataframe tbody tr th {\n",
       "        vertical-align: top;\n",
       "    }\n",
       "\n",
       "    .dataframe thead th {\n",
       "        text-align: right;\n",
       "    }\n",
       "</style>\n",
       "<table border=\"1\" class=\"dataframe\">\n",
       "  <thead>\n",
       "    <tr style=\"text-align: right;\">\n",
       "      <th></th>\n",
       "      <th>Name</th>\n",
       "      <th>Nationality</th>\n",
       "      <th>Acceleration</th>\n",
       "      <th>Aggression</th>\n",
       "      <th>Agility</th>\n",
       "      <th>Balance</th>\n",
       "      <th>Ball control</th>\n",
       "      <th>Composure</th>\n",
       "      <th>Crossing</th>\n",
       "      <th>Curve</th>\n",
       "      <th>...</th>\n",
       "      <th>Short passing</th>\n",
       "      <th>Shot power</th>\n",
       "      <th>Sliding tackle</th>\n",
       "      <th>Sprint speed</th>\n",
       "      <th>Stamina</th>\n",
       "      <th>Standing tackle</th>\n",
       "      <th>Strength</th>\n",
       "      <th>Vision</th>\n",
       "      <th>Volleys</th>\n",
       "      <th>Preferred_Positions</th>\n",
       "    </tr>\n",
       "  </thead>\n",
       "  <tbody>\n",
       "    <tr>\n",
       "      <th>0</th>\n",
       "      <td>Cristiano Ronaldo</td>\n",
       "      <td>Portugal</td>\n",
       "      <td>89</td>\n",
       "      <td>63</td>\n",
       "      <td>89</td>\n",
       "      <td>63</td>\n",
       "      <td>93</td>\n",
       "      <td>95</td>\n",
       "      <td>85</td>\n",
       "      <td>81</td>\n",
       "      <td>...</td>\n",
       "      <td>83</td>\n",
       "      <td>94</td>\n",
       "      <td>23</td>\n",
       "      <td>91</td>\n",
       "      <td>92</td>\n",
       "      <td>31</td>\n",
       "      <td>80</td>\n",
       "      <td>85</td>\n",
       "      <td>88</td>\n",
       "      <td>ST LW</td>\n",
       "    </tr>\n",
       "    <tr>\n",
       "      <th>1</th>\n",
       "      <td>L. Messi</td>\n",
       "      <td>Argentina</td>\n",
       "      <td>92</td>\n",
       "      <td>48</td>\n",
       "      <td>90</td>\n",
       "      <td>95</td>\n",
       "      <td>95</td>\n",
       "      <td>96</td>\n",
       "      <td>77</td>\n",
       "      <td>89</td>\n",
       "      <td>...</td>\n",
       "      <td>88</td>\n",
       "      <td>85</td>\n",
       "      <td>26</td>\n",
       "      <td>87</td>\n",
       "      <td>73</td>\n",
       "      <td>28</td>\n",
       "      <td>59</td>\n",
       "      <td>90</td>\n",
       "      <td>85</td>\n",
       "      <td>RW</td>\n",
       "    </tr>\n",
       "    <tr>\n",
       "      <th>2</th>\n",
       "      <td>Neymar</td>\n",
       "      <td>Brazil</td>\n",
       "      <td>94</td>\n",
       "      <td>56</td>\n",
       "      <td>96</td>\n",
       "      <td>82</td>\n",
       "      <td>95</td>\n",
       "      <td>92</td>\n",
       "      <td>75</td>\n",
       "      <td>81</td>\n",
       "      <td>...</td>\n",
       "      <td>81</td>\n",
       "      <td>80</td>\n",
       "      <td>33</td>\n",
       "      <td>90</td>\n",
       "      <td>78</td>\n",
       "      <td>24</td>\n",
       "      <td>53</td>\n",
       "      <td>80</td>\n",
       "      <td>83</td>\n",
       "      <td>LW</td>\n",
       "    </tr>\n",
       "    <tr>\n",
       "      <th>3</th>\n",
       "      <td>L. Suárez</td>\n",
       "      <td>Uruguay</td>\n",
       "      <td>88</td>\n",
       "      <td>78</td>\n",
       "      <td>86</td>\n",
       "      <td>60</td>\n",
       "      <td>91</td>\n",
       "      <td>83</td>\n",
       "      <td>77</td>\n",
       "      <td>86</td>\n",
       "      <td>...</td>\n",
       "      <td>83</td>\n",
       "      <td>87</td>\n",
       "      <td>38</td>\n",
       "      <td>77</td>\n",
       "      <td>89</td>\n",
       "      <td>45</td>\n",
       "      <td>80</td>\n",
       "      <td>84</td>\n",
       "      <td>88</td>\n",
       "      <td>ST</td>\n",
       "    </tr>\n",
       "    <tr>\n",
       "      <th>4</th>\n",
       "      <td>M. Neuer</td>\n",
       "      <td>Germany</td>\n",
       "      <td>58</td>\n",
       "      <td>29</td>\n",
       "      <td>52</td>\n",
       "      <td>35</td>\n",
       "      <td>48</td>\n",
       "      <td>70</td>\n",
       "      <td>15</td>\n",
       "      <td>14</td>\n",
       "      <td>...</td>\n",
       "      <td>55</td>\n",
       "      <td>25</td>\n",
       "      <td>11</td>\n",
       "      <td>61</td>\n",
       "      <td>44</td>\n",
       "      <td>10</td>\n",
       "      <td>83</td>\n",
       "      <td>70</td>\n",
       "      <td>11</td>\n",
       "      <td>GK</td>\n",
       "    </tr>\n",
       "  </tbody>\n",
       "</table>\n",
       "<p>5 rows × 37 columns</p>\n",
       "</div>"
      ],
      "text/plain": [
       "                Name Nationality Acceleration Aggression Agility Balance  \\\n",
       "0  Cristiano Ronaldo    Portugal       89         63      89      63       \n",
       "1           L. Messi   Argentina       92         48      90      95       \n",
       "2             Neymar      Brazil       94         56      96      82       \n",
       "3          L. Suárez     Uruguay       88         78      86      60       \n",
       "4           M. Neuer     Germany       58         29      52      35       \n",
       "\n",
       "  Ball control Composure Crossing   Curve  ... Short passing Shot power  \\\n",
       "0       93        95       85      81      ...        83         94       \n",
       "1       95        96       77      89      ...        88         85       \n",
       "2       95        92       75      81      ...        81         80       \n",
       "3       91        83       77      86      ...        83         87       \n",
       "4       48        70       15      14      ...        55         25       \n",
       "\n",
       "  Sliding tackle Sprint speed Stamina Standing tackle Strength  Vision  \\\n",
       "0         23           91      92              31       80      85       \n",
       "1         26           87      73              28       59      90       \n",
       "2         33           90      78              24       53      80       \n",
       "3         38           77      89              45       80      84       \n",
       "4         11           61      44              10       83      70       \n",
       "\n",
       "  Volleys Preferred_Positions  \n",
       "0  88                  ST LW   \n",
       "1  85                     RW   \n",
       "2  83                     LW   \n",
       "3  88                     ST   \n",
       "4  11                     GK   \n",
       "\n",
       "[5 rows x 37 columns]"
      ]
     },
     "execution_count": 15,
     "metadata": {},
     "output_type": "execute_result"
    }
   ],
   "source": [
    "soccer.select_dtypes(include=['object']).head()"
   ]
  },
  {
   "cell_type": "markdown",
   "metadata": {
    "colab_type": "text",
    "id": "fhdCTyawrG_t"
   },
   "source": [
    "In some cases, it might benefit our analysis to change the data types in our DataFrame (such as converting an `integer` to a `float`). The code below enables us to do this. \n",
    "\n",
    "Let's take ```Age```, generally expressed as an `int`, and convert it to a `float` using the ```.astype()``` function."
   ]
  },
  {
   "cell_type": "code",
   "execution_count": 16,
   "metadata": {
    "colab": {
     "base_uri": "https://localhost:8080/",
     "height": 35
    },
    "colab_type": "code",
    "id": "sYHF_LgTrG_t",
    "outputId": "b0c65e22-a832-40fe-8041-8e017aa5c06a"
   },
   "outputs": [
    {
     "data": {
      "text/plain": [
       "dtype('float64')"
      ]
     },
     "execution_count": 16,
     "metadata": {},
     "output_type": "execute_result"
    }
   ],
   "source": [
    "soccer['Age'] = soccer['Age'].astype('float')\n",
    "soccer['Age'].dtype"
   ]
  },
  {
   "cell_type": "markdown",
   "metadata": {
    "colab_type": "text",
    "id": "fabeyD13rG_4"
   },
   "source": [
    "# Visualising the data"
   ]
  },
  {
   "cell_type": "markdown",
   "metadata": {
    "colab_type": "text",
    "id": "LyuHk_5frG_6"
   },
   "source": [
    "Pandas DataFrames are a great way to wrangle data, but to see trends and patterns, find key insights, and identify outliers in the data, it generally helps to visualise them in a meaningful way. Python has some of the best graphing packages available to facilitate this. ```Matplotlib``` and ```Seaborn``` are two of the most commonly used packages for a variety of visualisations. \n",
    "\n",
    "Let's demonstrate some useful visualisations."
   ]
  },
  {
   "cell_type": "code",
   "execution_count": 17,
   "metadata": {},
   "outputs": [],
   "source": [
    "# set our colour palette preference for seaborn\n",
    "sns.set_palette(\"Spectral_r\",n_colors=4)"
   ]
  },
  {
   "cell_type": "markdown",
   "metadata": {
    "colab_type": "text",
    "id": "2VzND72frHAd"
   },
   "source": [
    "## Histogram"
   ]
  },
  {
   "cell_type": "markdown",
   "metadata": {
    "colab_type": "text",
    "id": "CaEZBB6_rHAd"
   },
   "source": [
    "A histogram is very similar to a bar chart, except that it **groups** data or puts it into **ranges**. These groupings/ranges are called \"**bins**\".\n",
    "\n",
    "```Seaborn``` and ```Matplotlib``` have their own histogram functions. \n",
    "\n",
    "```Seaborn``` will combine the histogram with a distribution if prompted to do so.\n",
    "If we want to display the distribution, we simply add the argument ```kde=True``` to the plot.\n",
    "\n",
    "Let's look at how to graph a histogram in both `Matplotlib` and `Seaborn` below."
   ]
  },
  {
   "cell_type": "code",
   "execution_count": 18,
   "metadata": {
    "colab": {
     "base_uri": "https://localhost:8080/",
     "height": 585
    },
    "colab_type": "code",
    "id": "dhtqvjWrrHAf",
    "outputId": "1f3273ec-5bb2-4c28-ae02-a1b033b12917"
   },
   "outputs": [
    {
     "data": {
      "image/png": "[encoded data removed]",
      "text/plain": [
       "<Figure size 1000x800 with 2 Axes>"
      ]
     },
     "metadata": {},
     "output_type": "display_data"
    }
   ],
   "source": [
    "#seaborn\n",
    "fig, ax = plt.subplots(2,1, figsize=(10,8)) \n",
    "\n",
    "sns.histplot(soccer['Age'], bins=5, element=\"step\", ax=ax[0]) \n",
    "sns.histplot(soccer['Age'], bins=5, element=\"step\", kde=True, ax=ax[1]) \n",
    "\n",
    "ax[0].set_title('Histogram for Ages')\n",
    "ax[1].set_title('Histogram of Ages with distribution')\n",
    "\n",
    "plt.tight_layout()\n",
    "plt.show()"
   ]
  },
  {
   "cell_type": "code",
   "execution_count": 19,
   "metadata": {
    "colab": {
     "base_uri": "https://localhost:8080/",
     "height": 282
    },
    "colab_type": "code",
    "id": "Y2IojcDorHAi",
    "outputId": "cfc87384-b764-4bcb-f812-2d2a93661501",
    "scrolled": true
   },
   "outputs": [
    {
     "data": {
      "image/png": "[encoded data removed]",
      "text/plain": [
       "<Figure size 640x480 with 1 Axes>"
      ]
     },
     "metadata": {},
     "output_type": "display_data"
    }
   ],
   "source": [
    "#matplotlib\n",
    "plt.xlabel('Age')\n",
    "plt.hist(soccer['Age'], bins=5)\n",
    "plt.show()"
   ]
  },
  {
   "cell_type": "markdown",
   "metadata": {
    "colab_type": "text",
    "id": "3xG4rWUsLlFz"
   },
   "source": [
    "Note how ```Seaborn``` automatically labels the axes for us whereas ```Matplotlib``` does not and the axes need to be specified."
   ]
  },
  {
   "cell_type": "markdown",
   "metadata": {
    "colab_type": "text",
    "id": "mI5wVM-NrG_-"
   },
   "source": [
    "## Jointplots"
   ]
  },
  {
   "cell_type": "markdown",
   "metadata": {
    "colab_type": "text",
    "id": "_g0MD60nrG__"
   },
   "source": [
    "```Seaborn```'s _jointplot_ will graphically display two variables on one plot and a single variable on the marginal sides of the graph. Essentially, a _jointplot_ allows us to see the relationship between two variables as well as each variable independently. \n",
    "\n",
    "Let's see an example below: "
   ]
  },
  {
   "cell_type": "code",
   "execution_count": 20,
   "metadata": {
    "colab": {
     "base_uri": "https://localhost:8080/",
     "height": 513
    },
    "colab_type": "code",
    "id": "COztXH4hrHAB",
    "outputId": "a29f9c9d-39ae-4557-ed31-6e7decb785e7"
   },
   "outputs": [
    {
     "data": {
      "image/png": "[encoded data removed]",
      "text/plain": [
       "<Figure size 600x600 with 3 Axes>"
      ]
     },
     "metadata": {},
     "output_type": "display_data"
    }
   ],
   "source": [
    "j = sns.jointplot(data=soccer, x='Overall', y='Age', kind='reg')\n",
    "plt.suptitle('Jointplot showing the Relationship between Overall and Age of Football Players', y=1.1)\n",
    "plt.show()"
   ]
  },
  {
   "cell_type": "markdown",
   "metadata": {
    "colab_type": "text",
    "id": "eE8rT0TUrHAD"
   },
   "source": [
    "In the graph above, it is still difficult to see how the `Overall` and `Age` variables are related. To improve this, we can try changing the type of plot or _kind_ to a hexagon, which displays the number of matching points much more clearly. \n",
    "\n",
    "Looking at the code below, we added the argument ```kind='hex'```."
   ]
  },
  {
   "cell_type": "code",
   "execution_count": null,
   "metadata": {
    "colab": {
     "base_uri": "https://localhost:8080/",
     "height": 513
    },
    "colab_type": "code",
    "id": "piOXcjbBrHAE",
    "outputId": "306a763c-35ae-4516-8079-13e93554e427"
   },
   "outputs": [],
   "source": [
    "j = sns.jointplot(data=soccer, x='Overall', y='Age', kind='hex')\n",
    "plt.suptitle('Jointplot showing the Relationship between Overall and Age of Football Players', y=1.1)\n",
    "plt.show()"
   ]
  },
  {
   "cell_type": "markdown",
   "metadata": {
    "colab_type": "text",
    "id": "m7YN0p_QrUPR"
   },
   "source": [
    "## Box plots\n",
    "\n",
    "Box plots are used to show the spread of data. The main difference between a box plot and a histogram (which also shows a distribution as mentioned above) is that it takes up less space to plot. \n",
    "\n",
    "Box plots are constructed using the 5-number summary as indicated below:\n",
    "\n",
    "```{Lower Extreme ; Q1 ; Median ; Q3 ; Upper Extreme}```\n",
    "\n",
    "![](https://upload.wikimedia.org/wikipedia/commons/5/5c/Labeled_Box_and_Whisker_Plot.png)\n",
    "\n",
    "Let's see how the `Overall` stats compare based on different ages (from 23 to 26 years old):\n"
   ]
  },
  {
   "cell_type": "code",
   "execution_count": null,
   "metadata": {
    "colab": {},
    "colab_type": "code",
    "id": "8PUxCscmkEBV"
   },
   "outputs": [],
   "source": [
    "young_players = soccer[(soccer['Age'] > 22) & (soccer['Age'] < 27)] #filter ages"
   ]
  },
  {
   "cell_type": "code",
   "execution_count": null,
   "metadata": {
    "colab": {
     "base_uri": "https://localhost:8080/",
     "height": 352
    },
    "colab_type": "code",
    "id": "VcbMJ685jSoM",
    "outputId": "527f2084-1fab-454d-8f2f-1818addc7eef"
   },
   "outputs": [],
   "source": [
    "plt.figure(figsize=(18,5))\n",
    "\n",
    "sns.boxplot(data=young_players, x='Age', y='Overall')\n",
    "plt.show()"
   ]
  },
  {
   "cell_type": "markdown",
   "metadata": {
    "colab_type": "text",
    "id": "CB1oDlr3rHBM"
   },
   "source": [
    "From the plot above, we can see the general trends of `Overall` stats for each specific age. Box plots, compared to histograms, can make it much easier to compare groupings of data."
   ]
  },
  {
   "cell_type": "markdown",
   "metadata": {
    "colab_type": "text",
    "id": "Xb4NqCdO41IK"
   },
   "source": [
    "## Violin plot\n",
    "\n",
    "Violin plots are similar to box plots, but they use the KDE or distribution of values for groupings, in addition to a box (the box is still present within each graph). \n",
    "\n",
    "Let's plot one using ```Seaborn``` with the `Overall` stats for various `Age` categories (from 23 to 26 years old)."
   ]
  },
  {
   "cell_type": "code",
   "execution_count": null,
   "metadata": {
    "colab": {
     "base_uri": "https://localhost:8080/",
     "height": 352
    },
    "colab_type": "code",
    "id": "LkmtwmawrHBN",
    "outputId": "db082254-752e-43e4-abf5-74f910e04b62",
    "scrolled": true
   },
   "outputs": [],
   "source": [
    "plt.figure(figsize=(18,5))\n",
    "\n",
    "sns.violinplot(data=young_players, x='Age', y='Overall')\n",
    "plt.show()"
   ]
  },
  {
   "cell_type": "markdown",
   "metadata": {
    "colab_type": "text",
    "id": "nlvhVqFG5eO5"
   },
   "source": [
    "The violin plots show us the general distribution across each age, and it makes it much easier for us to compare them."
   ]
  },
  {
   "cell_type": "markdown",
   "metadata": {
    "colab_type": "text",
    "id": "cUCk-kU7rHBa"
   },
   "source": [
    "## Facet grid"
   ]
  },
  {
   "cell_type": "markdown",
   "metadata": {
    "colab_type": "text",
    "id": "CcsNUy1UrHBb"
   },
   "source": [
    "Sometimes a useful approach (specifically when exploring medium-dimensional data) is to draw the same plot (a facet) on multiple subsets of the dataset, resulting in a matrix of visualisations (a facet grid). This technique is commonly referred to as “lattice”, or “trellis” plotting, and it is related to the idea of _small multiples_. \n",
    "\n",
    "Our data will need to be in a Pandas DataFrame for this to work.\n",
    "\n",
    "Let's try this on our dataset."
   ]
  },
  {
   "cell_type": "code",
   "execution_count": null,
   "metadata": {
    "colab": {},
    "colab_type": "code",
    "id": "amdKN9kbrHBd"
   },
   "outputs": [],
   "source": [
    "goalkeepers = soccer[(soccer['Preferred_Positions'].str.contains('GK'))]"
   ]
  },
  {
   "cell_type": "code",
   "execution_count": null,
   "metadata": {
    "colab": {
     "base_uri": "https://localhost:8080/",
     "height": 1000
    },
    "colab_type": "code",
    "id": "wNhZHovzrHBk",
    "outputId": "d67d5d96-c63a-49f1-85a4-30ce5b86ae7c"
   },
   "outputs": [],
   "source": [
    "sns.pairplot(goalkeepers[['Age','GK diving','GK handling', 'GK kicking', 'GK positioning', 'GK reflexes']],\n",
    "             hue='Age',palette=\"Spectral_r\")\n",
    "plt.show()"
   ]
  },
  {
   "cell_type": "markdown",
   "metadata": {
    "colab_type": "text",
    "id": "se2hDCkEsF2Q"
   },
   "source": [
    "To practice further, we will work with one of the practice datasets in ```Seaborn```."
   ]
  },
  {
   "cell_type": "code",
   "execution_count": null,
   "metadata": {
    "colab": {},
    "colab_type": "code",
    "id": "J85C7XTerHBc"
   },
   "outputs": [],
   "source": [
    "tips = sns.load_dataset(\"tips\")"
   ]
  },
  {
   "cell_type": "code",
   "execution_count": null,
   "metadata": {
    "colab": {
     "base_uri": "https://localhost:8080/",
     "height": 225
    },
    "colab_type": "code",
    "id": "tDmAH5fRrHBl",
    "outputId": "bea35e73-e654-4516-bc45-01bc0aed8005"
   },
   "outputs": [],
   "source": [
    "g = sns.FacetGrid(tips, col=\"day\")\n",
    "g.map(plt.hist, \"total_bill\");\n",
    "plt.show()"
   ]
  },
  {
   "cell_type": "markdown",
   "metadata": {
    "colab_type": "text",
    "id": "l5CUEdeOrHBn"
   },
   "source": [
    "Let's plot another example."
   ]
  },
  {
   "cell_type": "code",
   "execution_count": null,
   "metadata": {
    "colab": {
     "base_uri": "https://localhost:8080/",
     "height": 441
    },
    "colab_type": "code",
    "id": "XrI8gSoWrHBp",
    "outputId": "d6d12cd1-c800-4669-bfd9-55fca49f65d1"
   },
   "outputs": [],
   "source": [
    "g = sns.FacetGrid(tips, col=\"day\", row=\"sex\")\n",
    "g.map(plt.hist, \"total_bill\");\n",
    "plt.show()"
   ]
  },
  {
   "cell_type": "markdown",
   "metadata": {
    "colab_type": "text",
    "id": "iPN2-F_drHBv"
   },
   "source": [
    "# Summary"
   ]
  },
  {
   "cell_type": "markdown",
   "metadata": {
    "colab_type": "text",
    "id": "5AlRsS0hrHBv"
   },
   "source": [
    "Data visualisation is the act of taking information (data) and placing it into a visual context – such as a map or graph – to make sense of it. Data visualisations make it simpler for the human brain to understand data, making it easier to detect patterns, trends, and outliers.\n",
    "\n",
    "In this train, we learned how to navigate a Pandas DataFrame, how to slice a Pandas DataFrame, and how to produce advanced visualisations in Python.\n",
    "\n",
    "After completing this train, we should have a very good idea of how to effectively visualise  data with ```Seaborn``` and ```Matplotlib```. However, this train is by no means exhaustive, so it is encouraged to experiment and explore the many other plots available.\n"
   ]
  },
  {
   "cell_type": "markdown",
   "metadata": {},
   "source": [
    "#  \n",
    "\n",
    "<div align=\"center\" style=\" font-size: 80%; text-align: center; margin: 0 auto\">\n",
    "<img src=\"https://raw.githubusercontent.com/Explore-AI/Pictures/master/ExploreAI_logos/EAI_Blue_Dark.png\"  style=\"width:200px\";/>\n",
    "</div>"
   ]
  }
 ],
 "metadata": {
  "colab": {
   "collapsed_sections": [],
   "name": "python_for_data_science_advanced_visualisations.ipynb",
   "provenance": []
  },
  "kernelspec": {
   "display_name": "Python 3 (ipykernel)",
   "language": "python",
   "name": "python3"
  },
  "language_info": {
   "codemirror_mode": {
    "name": "ipython",
    "version": 3
   },
   "file_extension": ".py",
   "mimetype": "text/x-python",
   "name": "python",
   "nbconvert_exporter": "python",
   "pygments_lexer": "ipython3",
   "version": "3.11.5"
  },
  "vscode": {
   "interpreter": {
    "hash": "31f2aee4e71d21fbe5cf8b01ff0e069b9275f58929596ceb00d14d90e3e16cd6"
   }
  }
 },
 "nbformat": 4,
 "nbformat_minor": 4
}
